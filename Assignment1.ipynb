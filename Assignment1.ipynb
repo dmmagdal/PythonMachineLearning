{
 "cells": [
  {
   "cell_type": "markdown",
   "metadata": {},
   "source": [
    "# CMPS 140"
   ]
  },
  {
   "cell_type": "markdown",
   "metadata": {
    "deletable": false,
    "editable": false,
    "nbgrader": {
     "checksum": "95c148d1d7f3bad1a285adcc2df86994",
     "grade": false,
     "grade_id": "cell-d2d02676a6c716dd",
     "locked": true,
     "schema_version": 1,
     "solution": false
    }
   },
   "source": [
    "## Assignment 1\n",
    "\n",
    "**DUE: Friday April 20, 2018 11:59pm**\n",
    "\n",
    "Turn in the assignment via Canvas.\n",
    "\n",
    "To write legible answers you will need to be familiar with both [Markdown](https://github.com/adam-p/markdown-here/wiki/Markdown-Cheatsheet) and [Latex](https://www.latex-tutorial.com/tutorials/amsmath/)\n",
    "\n",
    "Before you turn this problem in, make sure everything runs as expected. First, restart the kernel (in the menubar, select Kernel→→Restart) and then run all cells (in the menubar, select Cell→→Run All).\n",
    "\n",
    "Make sure you fill in any place that says \"YOUR CODE HERE\" or \"YOUR ANSWER HERE\", as well as your name below:\n"
   ]
  },
  {
   "cell_type": "code",
   "execution_count": null,
   "metadata": {},
   "outputs": [],
   "source": [
    "NAME = \"Diego Magdaleno\"\n",
    "STUDENT_ID = \"1455124\""
   ]
  },
  {
   "cell_type": "markdown",
   "metadata": {
    "deletable": false,
    "editable": false,
    "nbgrader": {
     "checksum": "b0012b5d623145240cdd19dfa65be703",
     "grade": false,
     "grade_id": "cell-fbc61605f66193a2",
     "locked": true,
     "schema_version": 1,
     "solution": false
    }
   },
   "source": [
    "## Problem 1 \n",
    "\n",
    "Suppose that 13 cards are selected at random from a regular deck of 52 playing cards:\n",
    "\n",
    "a. If it is known that at least one ace has been selected, what is the probability that at least two aces have been selected?\n",
    "\n",
    "b. If it is known that the ace of hearts has been selected, what is the probability that at least two aces have been selected?"
   ]
  },
  {
   "cell_type": "markdown",
   "metadata": {
    "deletable": false,
    "nbgrader": {
     "checksum": "a1889ce8782580117854c4f2773af870",
     "grade": true,
     "grade_id": "cell-b18eb48e93041a25",
     "locked": false,
     "points": 1,
     "schema_version": 1,
     "solution": true
    }
   },
   "source": [
    "a) Let A represent the probability that at least one ace is selected in the 13 card hand, p(X$\\geq$1). Let B represent the probability that at lease two aces are selected in the 13 card hand, p(X$\\geq$2).  \n",
    "\n",
    "$\\dfrac{(\\binom{4}{1} \\times \\binom{48}{12})}{\\binom{52}{13}}$ = p(X=1) = 0.43885.  \n",
    "$\\dfrac{(\\binom{4}{2} \\times \\binom{48}{11})}{\\binom{52}{13}}$ = p(X=2) = 0.21345.  \n",
    "$\\dfrac{(\\binom{4}{3} \\times \\binom{48}{10})}{\\binom{52}{13}}$ = p(X=3) = 0.04120.  \n",
    "$\\dfrac{(\\binom{4}{4} \\times \\binom{48}{9})}{\\binom{52}{13}}$ = p(X=4) = 0.00264.  \n",
    "\n",
    "p(X$\\geq$1) = p(X=1)+p(X=2)+p(X=3)+p(X=4) = 0.69614.  \n",
    "p(X$\\geq$2) = p(X=2)+p(X=3)+p(X=4) = 0.25729.  \n",
    "\n",
    "p(B|A) = p(B,A)p(A).  \n",
    "\n",
    "p(B,A) = p(B) since p(X$\\geq$1) intersects p(X$\\geq$2) over all of p(X$\\geq$2).  \n",
    "\n",
    "p(B|A) = p(B)p(A).  \n",
    "=(0.25729)(0.69614).  \n",
    "=0.17911.  \n",
    "\n",
    "b) Let the ace of hearts be guarunteed and we have to find the probability of selecting at least two aces. This changes the probabilities slightly.  \n",
    "\n",
    "$\\dfrac{(\\binom{3}{1} \\times \\binom{48}{11})}{\\binom{52}{12}}$ = p(X=2) = 0.32845.  \n",
    "$\\dfrac{(\\binom{3}{2} \\times \\binom{48}{10})}{\\binom{52}{12}}$ = p(X=3) = 0.09508.  \n",
    "$\\dfrac{(\\binom{3}{3} \\times \\binom{48}{9})}{\\binom{52}{12}}$ = p(X=4) = 0.00812.  \n",
    "\n",
    "p(X$\\geq$2) = p(X=2)+p(X=3)+p(X=4).  \n",
    "= 0.32845+0.09508+0.00812.  \n",
    "= 0.43166."
   ]
  },
  {
   "cell_type": "markdown",
   "metadata": {
    "deletable": false,
    "editable": false,
    "nbgrader": {
     "checksum": "886ce8f1c285a0340b635a4b945e9ae9",
     "grade": false,
     "grade_id": "cell-63bc34a656b9f6e0",
     "locked": true,
     "schema_version": 1,
     "solution": false
    }
   },
   "source": [
    "## Problem 2\n",
    "\n",
    "\n",
    "Suppose that a person's score X on a mathematics aptitude test is a number between 0 and 1, and that a person's score on a music aptitude test is also a number between 0 and 1. Supposed further that in the population of all college students, the scores X and Y are distributed according to the following joint p.d.f.:\n",
    "\n",
    "$f(x, y) = \\frac{2}{5}(2x+3y),$ for $0 \\leq x \\leq 1$ and $0 \\leq y \\leq 1$\n",
    "\n",
    "a. What proportion of college students obtain a score greater than 0.8 on the mathematics test?\n",
    "\n",
    "b. If a student's score on the music test is 0.3, what is the probability that his/her score on the mathematics test will be greater than 0.8?\n",
    "\n",
    "c. If a student's score on the mathematics test is 0.3, what is the probability that his/her score on the music test will be greater than 0.8?"
   ]
  },
  {
   "cell_type": "markdown",
   "metadata": {
    "deletable": false,
    "nbgrader": {
     "checksum": "e15a7a687546c8c98d80284a2bc17582",
     "grade": true,
     "grade_id": "cell-2f061f10915044a8",
     "locked": false,
     "points": 1,
     "schema_version": 1,
     "solution": true
    }
   },
   "source": [
    "a) p(X>0.8) = $\\int_{0}^{1} \\int_{0.8}^{1} f(x,y) dxdy$  \n",
    "= $\\int_{0}^{1} \\int_{0.8}^{1} \\frac{2}{5} (2x + 3y) dxdy$  \n",
    "= $\\int_{0}^{1} \\frac{2}{5} (x^2 + 3xy) \\Big|_{0.8}^{1} dy$  \n",
    "= $\\int_{0}^{1} \\frac{2}{5} (1 + 3y) - (0.69 + 2.4y) dy$  \n",
    "= $\\int_{0}^{1} \\frac{2}{5} (0.36 + 0.6y) dy$  \n",
    "= $\\frac{2}{5} (0.36y + 0.3y^2) \\Big|_{0}^{1}$  \n",
    "= $\\frac{2}{5} (0.36 + 0.3) - (0 + 0)$\n",
    "= $\\frac{2}{5} (0.36 + 0.3)$  \n",
    "= 0.4(0.66)  \n",
    "= 0.264 (which is the percentage)  \n",
    "\n",
    "Simplifying 26.4% get us $\\frac{33}{125}$ as the actual proportion.  \n",
    "\n",
    "b) = $\\int_{0.8}^{1} \\frac{2}{5} (2x + 3(0.3)) dx$  \n",
    "= $\\frac{2}{5}(x^2 + 0.9x) \\Big|_{0.8}^{1}$  \n",
    "= $\\frac{2}{5}((1 + 0.9) - (0.64 + .72))$  \n",
    "= 0.216 or 21.6%  \n",
    "\n",
    "c) = $\\int_{0.8}^{1} \\frac{2}{5} (2(0.3) + 3y) dy$  \n",
    "= $\\frac{2}{5}(0.6y + \\frac{3}{2}y^2) \\Big|_{0.8}^{1}$  \n",
    "= $\\frac{2}{5}((0.6 + \\frac{3}{2}) - (0.48 + 0.96))$  \n",
    "= 0.264 or 26.4%    "
   ]
  },
  {
   "cell_type": "markdown",
   "metadata": {
    "deletable": false,
    "editable": false,
    "nbgrader": {
     "checksum": "9afe5deed00addacea2ffd902cfd2a76",
     "grade": false,
     "grade_id": "cell-6c53a68749acb988",
     "locked": true,
     "schema_version": 1,
     "solution": false
    }
   },
   "source": [
    "## Problem 3\n",
    "\n",
    "Write out the joint probability distribution described by the following Bayesian Network:\n",
    "\n",
    "![bayes_net](https://docs.google.com/drawings/d/e/2PACX-1vRjJ382tPK3UrxydjCmwWmMjOi-8T1wQN6hBBJhE7u3-creWY7KR-K224MPTU5IzKXtX4ILxviRUMAw/pub?w=720&h=528)"
   ]
  },
  {
   "cell_type": "markdown",
   "metadata": {
    "deletable": false,
    "nbgrader": {
     "checksum": "3315e32937e66207191e55de29900077",
     "grade": true,
     "grade_id": "cell-e702292884b97e63",
     "locked": false,
     "points": 1,
     "schema_version": 1,
     "solution": true
    }
   },
   "source": [
    "p(A,B,C,D,E,F) = p(F|D,E)p(E|B,C)p(D|A,B)p(C)p(B)p(A)"
   ]
  },
  {
   "cell_type": "markdown",
   "metadata": {
    "deletable": false,
    "editable": false,
    "nbgrader": {
     "checksum": "a8297d74638bd383fc868c1cbdbdc0b7",
     "grade": false,
     "grade_id": "cell-e5b71a52fa68bb04",
     "locked": true,
     "schema_version": 1,
     "solution": false
    }
   },
   "source": [
    "## Problem 4\n",
    "\n",
    "Given the dataset below, use information gain to calculate the first attribute the decision tree should split on. Feel free to use the cell below to explore the dataset and facilitate with the calculations. You should show your work using LaTeX 2 cells down."
   ]
  },
  {
   "cell_type": "code",
   "execution_count": 2,
   "metadata": {},
   "outputs": [
    {
     "name": "stdout",
     "output_type": "stream",
     "text": [
      "There are 150 samples with 4 attributes.\n",
      "The labels consist of 3 classes\n",
      "[ 5.00073114  5.00067623  4.88811382  4.77057214]\n"
     ]
    }
   ],
   "source": [
    "import numpy as np\n",
    "from sklearn.datasets import load_iris\n",
    "import scipy\n",
    "\n",
    "data_iris, labels_iris = load_iris(return_X_y=True)\n",
    "\n",
    "print('There are {} samples with {} attributes.'.format(*data_iris.shape))\n",
    "print('The labels consist of {} classes'.format(len(np.unique(labels_iris))))\n",
    "print(scipy.stats.entropy(data_iris))"
   ]
  },
  {
   "cell_type": "code",
   "execution_count": null,
   "metadata": {},
   "outputs": [],
   "source": []
  },
  {
   "cell_type": "markdown",
   "metadata": {
    "deletable": false,
    "nbgrader": {
     "checksum": "4e80f0e5cf3bf5fb6848c2d982131821",
     "grade": true,
     "grade_id": "cell-9d85836f00c56d8e",
     "locked": false,
     "points": 0,
     "schema_version": 1,
     "solution": true
    }
   },
   "source": [
    "Using scipy's entropy method to calculate the entropy between the labels in the data, I got a list with the entropy between the labels. Looking at the position with the highest entropy, the label (or attribute) would be the \"sepal length\"."
   ]
  },
  {
   "cell_type": "markdown",
   "metadata": {},
   "source": [
    "## Problem 5\n",
    "\n",
    "Given the dataset below, implement the logistic regression algorithm, optimizing the parameters using gradient descent and squared error as the loss function. See 18.6.4 from the textbook for details."
   ]
  },
  {
   "cell_type": "code",
   "execution_count": 6,
   "metadata": {
    "deletable": false,
    "editable": false,
    "nbgrader": {
     "checksum": "75b88d158872f2555802d1ca4e7d57cb",
     "grade": false,
     "grade_id": "cell-3f4f2172ab68f465",
     "locked": true,
     "schema_version": 1,
     "solution": false
    }
   },
   "outputs": [
    {
     "name": "stdout",
     "output_type": "stream",
     "text": [
      "(100, 2) (100,)\n"
     ]
    },
    {
     "data": {
      "image/png": "[encoded data removed]",
      "text/plain": [
       "<matplotlib.figure.Figure at 0x81d4290>"
      ]
     },
     "metadata": {},
     "output_type": "display_data"
    }
   ],
   "source": [
    "import numpy as np\n",
    "import matplotlib.pyplot as plt\n",
    "from sklearn.datasets.samples_generator import make_moons\n",
    "\n",
    "np.random.seed(33)\n",
    "data, labels = make_moons(n_samples=100, noise=0.1)\n",
    "colors = ['r' if y else 'b' for y in labels]\n",
    "print(data.shape, labels.shape)\n",
    "plt.scatter(data[:,0], data[:,1], c=colors)\n",
    "plt.show()"
   ]
  },
  {
   "cell_type": "code",
   "execution_count": 5,
   "metadata": {},
   "outputs": [],
   "source": [
    "%matplotlib inline"
   ]
  },
  {
   "cell_type": "code",
   "execution_count": 8,
   "metadata": {},
   "outputs": [
    {
     "name": "stdout",
     "output_type": "stream",
     "text": [
      "(100, 2) (100,)\n"
     ]
    },
    {
     "data": {
      "image/png": "[encoded data removed]",
      "text/plain": [
       "<matplotlib.figure.Figure at 0x81da3d0>"
      ]
     },
     "metadata": {},
     "output_type": "display_data"
    }
   ],
   "source": [
    "# find entropy of the data\n",
    "import numpy as np\n",
    "import matplotlib.pyplot as plt\n",
    "from sklearn.datasets.samples_generator import make_moons\n",
    "\n",
    "np.random.seed(33)\n",
    "data, labels = make_moons(n_samples=100, noise=0.1)\n",
    "colors = ['r' if y else 'b' for y in labels]\n",
    "print(data.shape, labels.shape)\n",
    "plt.scatter(data[:,0], data[:,1], c=colors)\n",
    "plt.show()"
   ]
  },
  {
   "cell_type": "code",
   "execution_count": 7,
   "metadata": {},
   "outputs": [],
   "source": [
    "%matplotlib inline"
   ]
  },
  {
   "cell_type": "code",
   "execution_count": 1,
   "metadata": {
    "deletable": false,
    "nbgrader": {
     "checksum": "4a753cda013f7b7c1376e8e4d6fd26f9",
     "grade": false,
     "grade_id": "cell-14e8f247a6e4f45c",
     "locked": false,
     "schema_version": 1,
     "solution": true
    }
   },
   "outputs": [
    {
     "ename": "NameError",
     "evalue": "name 'data' is not defined",
     "output_type": "error",
     "traceback": [
      "\u001b[1;31m---------------------------------------------------------------------------\u001b[0m",
      "\u001b[1;31mNameError\u001b[0m                                 Traceback (most recent call last)",
      "\u001b[1;32m<ipython-input-1-936155e3a98b>\u001b[0m in \u001b[0;36m<module>\u001b[1;34m()\u001b[0m\n\u001b[0;32m     67\u001b[0m \u001b[1;33m\u001b[0m\u001b[0m\n\u001b[0;32m     68\u001b[0m \u001b[1;33m\u001b[0m\u001b[0m\n\u001b[1;32m---> 69\u001b[1;33m \u001b[0mws\u001b[0m \u001b[1;33m=\u001b[0m \u001b[0mlogistic_regression\u001b[0m\u001b[1;33m(\u001b[0m\u001b[0mdata\u001b[0m\u001b[1;33m,\u001b[0m \u001b[0mlabels\u001b[0m\u001b[1;33m,\u001b[0m \u001b[0msquared_error\u001b[0m\u001b[1;33m,\u001b[0m \u001b[0msquared_error_derivative\u001b[0m\u001b[1;33m,\u001b[0m \u001b[1;36m0.5\u001b[0m\u001b[1;33m)\u001b[0m\u001b[1;33m\u001b[0m\u001b[0m\n\u001b[0m\u001b[0;32m     70\u001b[0m \u001b[0myh\u001b[0m \u001b[1;33m=\u001b[0m \u001b[0mnp\u001b[0m\u001b[1;33m.\u001b[0m\u001b[0mround\u001b[0m\u001b[1;33m(\u001b[0m\u001b[0mlogistic\u001b[0m\u001b[1;33m(\u001b[0m\u001b[0mnp\u001b[0m\u001b[1;33m.\u001b[0m\u001b[0mpad\u001b[0m\u001b[1;33m(\u001b[0m\u001b[0mdata\u001b[0m\u001b[1;33m,\u001b[0m \u001b[1;33m[\u001b[0m\u001b[1;33m[\u001b[0m\u001b[1;36m0\u001b[0m\u001b[1;33m,\u001b[0m\u001b[1;36m0\u001b[0m\u001b[1;33m]\u001b[0m\u001b[1;33m,\u001b[0m \u001b[1;33m[\u001b[0m\u001b[1;36m1\u001b[0m\u001b[1;33m,\u001b[0m\u001b[1;36m0\u001b[0m\u001b[1;33m]\u001b[0m\u001b[1;33m]\u001b[0m\u001b[1;33m,\u001b[0m \u001b[0mmode\u001b[0m\u001b[1;33m=\u001b[0m\u001b[1;34m'constant'\u001b[0m\u001b[1;33m)\u001b[0m\u001b[1;33m,\u001b[0m \u001b[0mws\u001b[0m\u001b[1;33m)\u001b[0m\u001b[1;33m)\u001b[0m\u001b[1;33m\u001b[0m\u001b[0m\n\u001b[0;32m     71\u001b[0m \u001b[0mcolors\u001b[0m \u001b[1;33m=\u001b[0m \u001b[1;33m[\u001b[0m\u001b[1;34m'g'\u001b[0m \u001b[1;32mif\u001b[0m \u001b[0m_yh\u001b[0m\u001b[1;33m==\u001b[0m\u001b[0m_y\u001b[0m \u001b[1;32melse\u001b[0m \u001b[1;34m'r'\u001b[0m \u001b[1;32mfor\u001b[0m \u001b[0m_yh\u001b[0m\u001b[1;33m,\u001b[0m \u001b[0m_y\u001b[0m \u001b[1;32min\u001b[0m \u001b[0mzip\u001b[0m\u001b[1;33m(\u001b[0m\u001b[0myh\u001b[0m\u001b[1;33m,\u001b[0m \u001b[0mlabels\u001b[0m\u001b[1;33m.\u001b[0m\u001b[0mastype\u001b[0m\u001b[1;33m(\u001b[0m\u001b[0mnp\u001b[0m\u001b[1;33m.\u001b[0m\u001b[0mint\u001b[0m\u001b[1;33m)\u001b[0m\u001b[1;33m)\u001b[0m\u001b[1;33m]\u001b[0m\u001b[1;33m\u001b[0m\u001b[0m\n",
      "\u001b[1;31mNameError\u001b[0m: name 'data' is not defined"
     ]
    }
   ],
   "source": [
    "import math as m\n",
    "import numpy as np\n",
    "\n",
    "def logistic(x, w):\n",
    "    # YOUR CODE HERE\n",
    "    result = []\n",
    "    for i in x:\n",
    "        z = np.dot(w, i)\n",
    "        result.append(sigmoid(z))\n",
    "    return result\n",
    "    raise NotImplementedError()\n",
    "    \n",
    "def sigmoid(z):\n",
    "    # YOUR CODE HERE\n",
    "    return 1/(1+np.exp(-z))\n",
    "    raise NotImplementedError()\n",
    "\n",
    "def sigmoid_derivative(z):\n",
    "    # YOUR CODE HERE\n",
    "    ez = m.exp(-z)\n",
    "    return ez/(m.pow((1+ez),2))\n",
    "    raise NotImplementedError()\n",
    "    \n",
    "def squared_error(y, h):\n",
    "    # YOUR CODE HERE\n",
    "    result = 0\n",
    "    for i in range(len(h)):\n",
    "        if int(y[i]) == 1:\n",
    "            result += -1*np.log2(h[i])\n",
    "        else:\n",
    "            result += -1*np.log2(1-h[i])\n",
    "    return result\n",
    "    raise NotImplementedError()\n",
    "\n",
    "def squared_error_derivative(y, h):\n",
    "    # YOUR CODE HERE\n",
    "    result = 0\n",
    "    for i in range(len(h)):\n",
    "        result += (int(y[i])-h[i])\n",
    "    result /= len(h)\n",
    "    return result\n",
    "    raise NotImplementedError()\n",
    "    \n",
    "def accuracy(y, h):\n",
    "    # YOUR CODE HERE\n",
    "    correct = 0\n",
    "    for i in range(len(h)):\n",
    "        if y.item(i) == h.item(i):\n",
    "            correct += 1\n",
    "    return correct\n",
    "    raise NotImplementedError()\n",
    "    \n",
    "def logistic_regression(x, y, loss_func, loss_func_derivative, learning_rate, num_steps=10):\n",
    "    # start with intial parameters w_i = 1\n",
    "    w = np.ones(3)\n",
    "    # include a bias term\n",
    "    x = np.pad(x, [[0,0], [1,0]], mode='constant')\n",
    "\n",
    "    print('Intial Accuracy:{}%'.format(accuracy(y, np.round(logistic(x, w)))))\n",
    "    \n",
    "    for step in range(num_steps):\n",
    "        output = logistic(x, w)\n",
    "        update = np.dot(loss_func(y, output) * loss_func_derivative(y, output), x)\n",
    "        w = w + learning_rate * update\n",
    "        print('Step {} Accuracy:{}%'.format(step+1,accuracy(y, np.round(logistic(x, w)))))\n",
    "    return w\n",
    "    \n",
    "\n",
    "ws = logistic_regression(data, labels, squared_error, squared_error_derivative, 0.5)\n",
    "yh = np.round(logistic(np.pad(data, [[0,0], [1,0]], mode='constant'), ws))\n",
    "colors = ['g' if _yh==_y else 'r' for _yh, _y in zip(yh, labels.astype(np.int))]\n",
    "plt.title('Classification Results')\n",
    "plt.scatter(data[:,0], data[:,1], c=colors)"
   ]
  },
  {
   "cell_type": "code",
   "execution_count": 2,
   "metadata": {
    "deletable": false,
    "editable": false,
    "nbgrader": {
     "checksum": "48af5556e545939d398fc0b508377e08",
     "grade": true,
     "grade_id": "cell-5c2d005f666d2961",
     "locked": true,
     "points": 0,
     "schema_version": 1,
     "solution": false
    }
   },
   "outputs": [
    {
     "ename": "NameError",
     "evalue": "name 'data' is not defined",
     "output_type": "error",
     "traceback": [
      "\u001b[1;31m---------------------------------------------------------------------------\u001b[0m",
      "\u001b[1;31mNameError\u001b[0m                                 Traceback (most recent call last)",
      "\u001b[1;32m<ipython-input-2-814ebfbd46b0>\u001b[0m in \u001b[0;36m<module>\u001b[1;34m()\u001b[0m\n\u001b[0;32m      1\u001b[0m \u001b[0mcorrect_w\u001b[0m \u001b[1;33m=\u001b[0m \u001b[0mnp\u001b[0m\u001b[1;33m.\u001b[0m\u001b[0marray\u001b[0m\u001b[1;33m(\u001b[0m\u001b[1;33m[\u001b[0m \u001b[1;36m1.\u001b[0m        \u001b[1;33m,\u001b[0m  \u001b[1;36m0.51003169\u001b[0m\u001b[1;33m,\u001b[0m \u001b[1;33m-\u001b[0m\u001b[1;36m1.56964452\u001b[0m\u001b[1;33m]\u001b[0m\u001b[1;33m)\u001b[0m\u001b[1;33m\u001b[0m\u001b[0m\n\u001b[1;32m----> 2\u001b[1;33m np.testing.assert_allclose(logistic_regression(data, labels, squared_error, squared_error_derivative, 0.5),\n\u001b[0m\u001b[0;32m      3\u001b[0m                            \u001b[0mcorrect_w\u001b[0m\u001b[1;33m,\u001b[0m\u001b[1;33m\u001b[0m\u001b[0m\n\u001b[0;32m      4\u001b[0m                            rtol=1e-5)\n",
      "\u001b[1;31mNameError\u001b[0m: name 'data' is not defined"
     ]
    }
   ],
   "source": [
    "correct_w = np.array([ 1.        ,  0.51003169, -1.56964452])\n",
    "np.testing.assert_allclose(logistic_regression(data, labels, squared_error, squared_error_derivative, 0.5),\n",
    "                           correct_w,\n",
    "                           rtol=1e-5)"
   ]
  },
  {
   "cell_type": "markdown",
   "metadata": {},
   "source": [
    "## Problem 6\n",
    "\n",
    "Implement a single perceptron below.\n",
    "\n",
    "You can assume that both **x** and **w** will be iterables and b will be a single value. All of them will not be *None*."
   ]
  },
  {
   "cell_type": "code",
   "execution_count": 3,
   "metadata": {
    "deletable": false,
    "nbgrader": {
     "checksum": "23ec0179033bbc5ec963ac98baf613fb",
     "grade": false,
     "grade_id": "cell-6ad288911fa0e2a9",
     "locked": false,
     "schema_version": 1,
     "solution": true
    }
   },
   "outputs": [],
   "source": [
    "def perceptron(x, w, b):\n",
    "    # YOUR CODE HERE\n",
    "    s = 0\n",
    "    for i in range(len(w)):\n",
    "        s = s + (w[i]*x[i])\n",
    "    if (s + b > 0):\n",
    "        return 1\n",
    "    else:\n",
    "        return 0\n",
    "    raise NotImplementedError()\n",
    "\n",
    "# Test code    \n",
    "#print(perceptron([1, 2], [1, 1], 0) == 1)\n",
    "#print(perceptron([1, 2], [1, 1], -5) == 0)"
   ]
  },
  {
   "cell_type": "code",
   "execution_count": 1,
   "metadata": {
    "collapsed": true,
    "deletable": false,
    "editable": false,
    "nbgrader": {
     "checksum": "f8e4fb18f036abcf7180c285e531fd24",
     "grade": true,
     "grade_id": "cell-0beeecf3cc6d7e32",
     "locked": true,
     "points": 1,
     "schema_version": 1,
     "solution": false
    }
   },
   "outputs": [
    {
     "ename": "NameError",
     "evalue": "name 'perceptron' is not defined",
     "output_type": "error",
     "traceback": [
      "\u001b[1;31m---------------------------------------------------------------------------\u001b[0m",
      "\u001b[1;31mNameError\u001b[0m                                 Traceback (most recent call last)",
      "\u001b[1;32m<ipython-input-1-0a179df0a075>\u001b[0m in \u001b[0;36m<module>\u001b[1;34m()\u001b[0m\n\u001b[1;32m----> 1\u001b[1;33m \u001b[1;32massert\u001b[0m \u001b[0mperceptron\u001b[0m\u001b[1;33m(\u001b[0m\u001b[1;33m[\u001b[0m\u001b[1;36m1\u001b[0m\u001b[1;33m,\u001b[0m \u001b[1;36m2\u001b[0m\u001b[1;33m]\u001b[0m\u001b[1;33m,\u001b[0m \u001b[1;33m[\u001b[0m\u001b[1;36m1\u001b[0m\u001b[1;33m,\u001b[0m \u001b[1;36m1\u001b[0m\u001b[1;33m]\u001b[0m\u001b[1;33m,\u001b[0m \u001b[1;36m0\u001b[0m\u001b[1;33m)\u001b[0m \u001b[1;33m==\u001b[0m \u001b[1;36m1\u001b[0m\u001b[1;33m\u001b[0m\u001b[0m\n\u001b[0m\u001b[0;32m      2\u001b[0m \u001b[1;32massert\u001b[0m \u001b[0mperceptron\u001b[0m\u001b[1;33m(\u001b[0m\u001b[1;33m[\u001b[0m\u001b[1;36m1\u001b[0m\u001b[1;33m,\u001b[0m \u001b[1;36m2\u001b[0m\u001b[1;33m]\u001b[0m\u001b[1;33m,\u001b[0m \u001b[1;33m[\u001b[0m\u001b[1;36m1\u001b[0m\u001b[1;33m,\u001b[0m \u001b[1;36m1\u001b[0m\u001b[1;33m]\u001b[0m\u001b[1;33m,\u001b[0m \u001b[1;33m-\u001b[0m\u001b[1;36m5\u001b[0m\u001b[1;33m)\u001b[0m \u001b[1;33m==\u001b[0m \u001b[1;36m0\u001b[0m\u001b[1;33m\u001b[0m\u001b[0m\n",
      "\u001b[1;31mNameError\u001b[0m: name 'perceptron' is not defined"
     ]
    }
   ],
   "source": [
    "assert perceptron([1, 2], [1, 1], 0) == 1\n",
    "assert perceptron([1, 2], [1, 1], -5) == 0"
   ]
  }
 ],
 "metadata": {
  "kernelspec": {
   "display_name": "Python 3",
   "language": "python",
   "name": "python3"
  },
  "language_info": {
   "codemirror_mode": {
    "name": "ipython",
    "version": 3
   },
   "file_extension": ".py",
   "mimetype": "text/x-python",
   "name": "python",
   "nbconvert_exporter": "python",
   "pygments_lexer": "ipython3",
   "version": "3.6.3"
  }
 },
 "nbformat": 4,
 "nbformat_minor": 2
}
